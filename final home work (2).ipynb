{
  "metadata": {
    "language_info": {
      "codemirror_mode": {
        "name": "python",
        "version": 3
      },
      "file_extension": ".py",
      "mimetype": "text/x-python",
      "name": "python",
      "nbconvert_exporter": "python",
      "pygments_lexer": "ipython3",
      "version": "3.8"
    },
    "kernelspec": {
      "name": "python",
      "display_name": "Python (Pyodide)",
      "language": "python"
    }
  },
  "nbformat_minor": 4,
  "nbformat": 4,
  "cells": [
    {
      "cell_type": "markdown",
      "source": "Домашнее задание f(x) = -12x^4 - 18x^3+5x^2 + 10x\n\nОпределить корни\n\nНайти интервалы, на которых функция возрастает\n\nНайти интервалы, на которых функция убывает\n\nПостроить график\n\nВычислить вершину\n\nОпределить промежутки, на котором f > 0\n\nОпределить промежутки, на котором f < 0",
      "metadata": {}
    },
    {
      "cell_type": "code",
      "source": "import matplotlib.pyplot as plt\nimport sympy as sp\nfrom sympy import diff, symbols, Eq, S, solve, solveset\nimport numpy as np\n\nx, y = symbols('x y')\n\nsolveset(-12*(x**4) - 18*(x**3) - 5*(x**2) + 10*x, x) # определяем корни уравнения",
      "metadata": {
        "trusted": true
      },
      "execution_count": null,
      "outputs": [
        {
          "execution_count": 1,
          "output_type": "execute_result",
          "data": {
            "text/plain": "{0, -1/2 + 1/(9*(sqrt(28985)/432 + 19/48)**(1/3)) + (sqrt(28985)/432 + 19/48)**(1/3), -1/2 - (sqrt(28985)/432 + 19/48)**(1/3)/2 - 1/(18*(sqrt(28985)/432 + 19/48)**(1/3)) + I*(-sqrt(3)/(18*(sqrt(28985)/432 + 19/48)**(1/3)) + sqrt(3)*(sqrt(28985)/432 + 19/48)**(1/3)/2), -1/2 - (sqrt(28985)/432 + 19/48)**(1/3)/2 - 1/(18*(sqrt(28985)/432 + 19/48)**(1/3)) + I*(-sqrt(3)*(sqrt(28985)/432 + 19/48)**(1/3)/2 + sqrt(3)/(18*(sqrt(28985)/432 + 19/48)**(1/3)))}",
            "text/latex": "$\\displaystyle \\left\\{0, - \\frac{1}{2} + \\frac{1}{9 \\sqrt[3]{\\frac{\\sqrt{28985}}{432} + \\frac{19}{48}}} + \\sqrt[3]{\\frac{\\sqrt{28985}}{432} + \\frac{19}{48}}, - \\frac{1}{2} - \\frac{\\sqrt[3]{\\frac{\\sqrt{28985}}{432} + \\frac{19}{48}}}{2} - \\frac{1}{18 \\sqrt[3]{\\frac{\\sqrt{28985}}{432} + \\frac{19}{48}}} + i \\left(- \\frac{\\sqrt{3}}{18 \\sqrt[3]{\\frac{\\sqrt{28985}}{432} + \\frac{19}{48}}} + \\frac{\\sqrt{3} \\sqrt[3]{\\frac{\\sqrt{28985}}{432} + \\frac{19}{48}}}{2}\\right), - \\frac{1}{2} - \\frac{\\sqrt[3]{\\frac{\\sqrt{28985}}{432} + \\frac{19}{48}}}{2} - \\frac{1}{18 \\sqrt[3]{\\frac{\\sqrt{28985}}{432} + \\frac{19}{48}}} + i \\left(- \\frac{\\sqrt{3} \\sqrt[3]{\\frac{\\sqrt{28985}}{432} + \\frac{19}{48}}}{2} + \\frac{\\sqrt{3}}{18 \\sqrt[3]{\\frac{\\sqrt{28985}}{432} + \\frac{19}{48}}}\\right)\\right\\}$"
          },
          "metadata": {}
        }
      ]
    },
    {
      "cell_type": "code",
      "source": "diff(-12*(x**4) - 18*(x**3) - 5*(x**2) + 10*x, x)",
      "metadata": {
        "trusted": true
      },
      "execution_count": 2,
      "outputs": [
        {
          "execution_count": 2,
          "output_type": "execute_result",
          "data": {
            "text/plain": "-48*x**3 - 54*x**2 - 10*x + 10",
            "text/latex": "$\\displaystyle - 48 x^{3} - 54 x^{2} - 10 x + 10$"
          },
          "metadata": {}
        }
      ]
    },
    {
      "cell_type": "code",
      "source": "solveset(diff(-12*(x**4) - 18*(x**3) - 5*(x**2) + 10*x, x), x, domain=S.Reals)",
      "metadata": {
        "trusted": true
      },
      "execution_count": 3,
      "outputs": [
        {
          "execution_count": 3,
          "output_type": "execute_result",
          "data": {
            "text/plain": "{-3/8 + 41/(576*(sqrt(93505)/3456 + 139/1536)**(1/3)) + (sqrt(93505)/3456 + 139/1536)**(1/3)}",
            "text/latex": "$\\displaystyle \\left\\{- \\frac{3}{8} + \\frac{41}{576 \\sqrt[3]{\\frac{\\sqrt{93505}}{3456} + \\frac{139}{1536}}} + \\sqrt[3]{\\frac{\\sqrt{93505}}{3456} + \\frac{139}{1536}}\\right\\}$"
          },
          "metadata": {}
        }
      ]
    },
    {
      "cell_type": "code",
      "source": "print (f'Максимум функции (вершина) {solveset(diff(-12*(x**4) - 18*(x**3) - 5*(x**2) + 10*x, x), x, domain=S.Reals)} ')\nprint (f'Функция убывает на промежутках (-oo, {solveset(diff(-12*(x**4) - 18*(x**3) - 5*(x**2) + 10*x, x), x, domain=S.Reals)}]')\nprint (f'Функция возрастает на промежутках [{solveset(diff(-12*(x**4) - 18*(x**3) - 5*(x**2) + 10*x, x), x, domain=S.Reals)}, oo)')",
      "metadata": {},
      "execution_count": null,
      "outputs": []
    },
    {
      "cell_type": "code",
      "source": "Максимум функции (вершина): {-3/8 + 41/(576*(sqrt(93505)/3456 + 139/1536)**(1/3)) + (sqrt(93505)/3456 + 139/1536)**(1/3)} \nФункция убывает на промежутках (-oo, {-3/8 + 41/(576*(sqrt(93505)/3456 + 139/1536)**(1/3)) + (sqrt(93505)/3456 + 139/1536)**(1/3)}]\nФункция возрастает на промежутках [{-3/8 + 41/(576*(sqrt(93505)/3456 + 139/1536)**(1/3)) + (sqrt(93505)/3456 + 139/1536)**(1/3)}, oo)",
      "metadata": {},
      "execution_count": null,
      "outputs": []
    },
    {
      "cell_type": "code",
      "source": "# Setting axis at the center\nfig = plt.figure()\nax = fig.add_subplot(1, 1, 1)\n \n# Move left y-axis and bottim x-axis to centre, passing through (0,0)\nax.spines['left'].set_position('center')\nax.spines['bottom'].set_position('zero')\n \n# Eliminate upper and right axes\nax.spines['right'].set_color('none')\nax.spines['top'].set_color('none')\n \n# Show ticks in the left and lower axes only\nax.xaxis.set_ticks_position('bottom')\nax.yaxis.set_ticks_position('left')\n\ndef fx(x):\n    return -12*(x**4) - 18*(x**3) - 5*(x**2) + 10*x\n\nx = np.linspace(-5, 5, 1000)\ny = [fx(n) for n in x]\n\nplt.ylim(-50, 50)\n\nplt.plot(x, y)\n\nplt.show()",
      "metadata": {
        "trusted": true
      },
      "execution_count": 5,
      "outputs": [
        {
          "output_type": "display_data",
          "data": {
            "text/plain": "<pyolite.display.Image at 0x4000570>",
            "image/png": "[encoded data removed]"
          },
          "metadata": {}
        }
      ]
    }
  ]
}